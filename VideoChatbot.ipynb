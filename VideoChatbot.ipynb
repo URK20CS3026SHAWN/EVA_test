{
  "cells": [
    {
      "cell_type": "code",
      "execution_count": null,
      "metadata": {},
      "outputs": [],
      "source": [
        "#%cd /Users/shawn/Documents/Final Yr Proj/VideoChatbot Stripped!\n",
        "#%cd .."
      ]
    },
    {
      "cell_type": "code",
      "execution_count": null,
      "metadata": {
        "colab": {
          "base_uri": "https://localhost:8080/"
        },
        "id": "YhFe3CJGAIiV",
        "outputId": "e6b66a69-aed0-434e-a1d5-615b6665ae2d"
      },
      "outputs": [],
      "source": [
        "# !git clone https://github.com/ajay-sainy/Wav2Lip-GFPGAN.git\n",
        "# basePath = \"Wav2Lip-GFPGAN\"\n",
        "# %cd {basePath}"
      ]
    },
    {
      "cell_type": "code",
      "execution_count": 3,
      "metadata": {
        "colab": {
          "base_uri": "https://localhost:8080/"
        },
        "id": "mH7A_OaFUs8U",
        "outputId": "b2f497ce-1972-4899-cea0-39f14744f728"
      },
      "outputs": [],
      "source": [
        "# wav2lipFolderName = 'Wav2Lip-master'\n",
        "# gfpganFolderName = 'GFPGAN-master'\n",
        "# wav2lipPath = basePath + '/' + wav2lipFolderName\n",
        "# gfpganPath = basePath + '/' + gfpganFolderName\n",
        "\n",
        "# !wget 'https://www.adrianbulat.com/downloads/python-fan/s3fd-619a316812.pth' -O {wav2lipPath}'/face_detection/detection/sfd/s3fd.pth'\n",
        "# !gdown https://drive.google.com/uc?id=1fQtBSYEyuai9MjBOF8j7zZ4oQ9W2N64q --output {wav2lipPath}'/checkpoints/'"
      ]
    },
    {
      "cell_type": "code",
      "execution_count": null,
      "metadata": {
        "colab": {
          "base_uri": "https://localhost:8080/"
        },
        "id": "CAJqWQS17Qk1",
        "outputId": "d9c53900-afed-4849-f882-a1b728a12ae3"
      },
      "outputs": [],
      "source": [
        "#!pip install -r Wav2Lip-GFPGAN/requirements.txt"
      ]
    },
    {
      "cell_type": "code",
      "execution_count": 27,
      "metadata": {
        "colab": {
          "base_uri": "https://localhost:8080/"
        },
        "id": "EqX_2YtkUjRI",
        "outputId": "c45defe3-dfa9-44f1-d1a9-65fe4e4ba6f4"
      },
      "outputs": [
        {
          "name": "stdout",
          "output_type": "stream",
          "text": [
            "/Users/shawn/Documents/FinalYr_Proj/VideoChatbot_Stripped\n"
          ]
        },
        {
          "name": "stdout",
          "output_type": "stream",
          "text": [
            "\u001b[34mOutput\u001b[m\u001b[m             \u001b[34mRAG_Stripped\u001b[m\u001b[m       \u001b[34mWav2Lip\u001b[m\u001b[m            test.ipynb\n",
            "\u001b[34mRAG\u001b[m\u001b[m                VideoChatbot.ipynb \u001b[34mtemp\u001b[m\u001b[m\n"
          ]
        }
      ],
      "source": [
        "import os\n",
        "\n",
        "file = open(\"Output/latest_audio.txt\", \"r\")\n",
        "inputAudioPath = file.read()\n",
        "file.close()\n",
        "\n",
        "outputPath = 'Output'\n",
        "#inputVideoPath = 'Wav2Lip/inputs/kimk_7s_raw.mp4'\n",
        "#inputVideoPath = 'Wav2Lip/inputs/MO.mp4'\n",
        "inputVideoPath = 'Wav2Lip/inputs/Palki.mp4'\n",
        "lipSyncedOutputPath = 'Output/Video/result_'+inputAudioPath[21:-4]+'.mp4'\n",
        "\n",
        "if not os.path.exists(outputPath):\n",
        "  os.makedirs(outputPath)\n",
        "!pwd\n",
        "!ls"
      ]
    },
    {
      "cell_type": "code",
      "execution_count": 25,
      "metadata": {},
      "outputs": [
        {
          "name": "stdout",
          "output_type": "stream",
          "text": [
            "Output/Audio/QVS_Out_20240412-233409.wav Output/Video/result_20240412-233409.mp4\n"
          ]
        }
      ],
      "source": [
        "print(inputAudioPath[:], lipSyncedOutputPath)"
      ]
    },
    {
      "cell_type": "code",
      "execution_count": 28,
      "metadata": {},
      "outputs": [
        {
          "name": "stdout",
          "output_type": "stream",
          "text": [
            "Using mps for inference.\n",
            "Reading video frames...\n",
            "Traceback (most recent call last):\n",
            "  File \"/Users/shawn/Documents/FinalYr_Proj/VideoChatbot_Stripped/Wav2Lip/Wav2Lip-master/inference.py\", line 286, in <module>\n",
            "    main()\n",
            "  File \"/Users/shawn/Documents/FinalYr_Proj/VideoChatbot_Stripped/Wav2Lip/Wav2Lip-master/inference.py\", line 214, in main\n",
            "    cv2.imwrite('Output/'+args.outfile+'/frames', frame)\n",
            "cv2.error: OpenCV(4.9.0) /Users/xperience/GHA-OpenCV-Python2/_work/opencv-python/opencv-python/opencv/modules/imgcodecs/src/loadsave.cpp:696: error: (-2:Unspecified error) could not find a writer for the specified extension in function 'imwrite_'\n",
            "\n"
          ]
        }
      ],
      "source": [
        "!python Wav2Lip/Wav2Lip-master/inference.py \\\n",
        "--checkpoint_path Wav2Lip/Wav2Lip-master/checkpoints/wav2lip.pth \\\n",
        "--face {inputVideoPath} \\\n",
        "--audio {inputAudioPath} \\\n",
        "--outfile {lipSyncedOutputPath}"
      ]
    },
    {
      "cell_type": "code",
      "execution_count": 25,
      "metadata": {},
      "outputs": [
        {
          "name": "stdout",
          "output_type": "stream",
          "text": [
            "\u001b[34mGFPGAN-master\u001b[m\u001b[m        \u001b[34mWav2Lip-master\u001b[m\u001b[m       references.txt\n",
            "README.md            \u001b[34minputs\u001b[m\u001b[m               requirements.txt\n",
            "Wav2Lip-GFPGAN.ipynb \u001b[34moutputs\u001b[m\u001b[m              \u001b[34mtemp\u001b[m\u001b[m\n"
          ]
        }
      ],
      "source": [
        "#%cd ..\n",
        "!ls"
      ]
    }
  ],
  "metadata": {
    "accelerator": "GPU",
    "colab": {
      "name": "Wav2Lip.ipynb",
      "provenance": []
    },
    "gpuClass": "standard",
    "kernelspec": {
      "display_name": "Python 3",
      "name": "python3"
    },
    "language_info": {
      "codemirror_mode": {
        "name": "ipython",
        "version": 3
      },
      "file_extension": ".py",
      "mimetype": "text/x-python",
      "name": "python",
      "nbconvert_exporter": "python",
      "pygments_lexer": "ipython3",
      "version": "3.10.0"
    }
  },
  "nbformat": 4,
  "nbformat_minor": 0
}
