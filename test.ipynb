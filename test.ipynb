{
 "cells": [
  {
   "cell_type": "code",
   "execution_count": 11,
   "metadata": {},
   "outputs": [
    {
     "name": "stdout",
     "output_type": "stream",
     "text": [
      "TTS Failed with error:  Command '['mimic3', '--voice', 'en_US/ljspeech_low', '\"Happy birthday Gunji Prem Prasad\"', '--output-dir', 'ZOUTPUT/DIR', '--output-naming', 'time']' returned non-zero exit status 1.\n"
     ]
    },
    {
     "name": "stderr",
     "output_type": "stream",
     "text": [
      "Traceback (most recent call last):\n",
      "  File \"/Users/shawn/anaconda3/envs/llamalocal3/bin/mimic3\", line 8, in <module>\n",
      "    sys.exit(main())\n",
      "  File \"/Users/shawn/anaconda3/envs/llamalocal3/lib/python3.10/site-packages/mimic3_tts/__main__.py\", line 129, in main\n",
      "    process_lines(state)\n",
      "  File \"/Users/shawn/anaconda3/envs/llamalocal3/lib/python3.10/site-packages/mimic3_tts/__main__.py\", line 450, in process_lines\n",
      "    process_line(line, state, line_id=line_id, line_voice=line_voice)\n",
      "  File \"/Users/shawn/anaconda3/envs/llamalocal3/lib/python3.10/site-packages/mimic3_tts/__main__.py\", line 379, in process_line\n",
      "    state.tts.speak_text(line)\n",
      "  File \"/Users/shawn/anaconda3/envs/llamalocal3/lib/python3.10/site-packages/mimic3_tts/tts.py\", line 368, in speak_text\n",
      "    voice = self._get_or_load_voice(self.voice)\n",
      "  File \"/Users/shawn/anaconda3/envs/llamalocal3/lib/python3.10/site-packages/mimic3_tts/tts.py\", line 595, in _get_or_load_voice\n",
      "    voice = Mimic3Voice.load_from_directory(\n",
      "  File \"/Users/shawn/anaconda3/envs/llamalocal3/lib/python3.10/site-packages/mimic3_tts/voice.py\", line 283, in load_from_directory\n",
      "    onnx_model = Mimic3Voice._load_model(\n",
      "  File \"/Users/shawn/anaconda3/envs/llamalocal3/lib/python3.10/site-packages/mimic3_tts/voice.py\", line 403, in _load_model\n",
      "    onnx_model = onnxruntime.InferenceSession(\n",
      "  File \"/Users/shawn/anaconda3/envs/llamalocal3/lib/python3.10/site-packages/onnxruntime/capi/onnxruntime_inference_collection.py\", line 419, in __init__\n",
      "    self._create_inference_session(providers, provider_options, disabled_optimizers)\n",
      "  File \"/Users/shawn/anaconda3/envs/llamalocal3/lib/python3.10/site-packages/onnxruntime/capi/onnxruntime_inference_collection.py\", line 452, in _create_inference_session\n",
      "    sess = C.InferenceSession(session_options, self._model_path, True, self._read_config_from_model)\n",
      "onnxruntime.capi.onnxruntime_pybind11_state.InvalidProtobuf: [ONNXRuntimeError] : 7 : INVALID_PROTOBUF : Load model from /Users/shawn/.local/share/mycroft/mimic3/voices/en_US/ljspeech_low/generator.onnx failed:Protobuf parsing failed.\n"
     ]
    }
   ],
   "source": [
    "import subprocess\n",
    "\n",
    "args = [\n",
    "    \"mimic3\",\"--voice\",\"en_US/ljspeech_low\",\n",
    "    \"\\\"Happy birthday Gunji Prem Prasad\\\"\",\n",
    "    \"--output-dir\", \"ZOUTPUT/DIR\",\"--output-naming\",\"time\"]\n",
    "try:\n",
    "    subprocess.check_call(args)\n",
    "except subprocess.CalledProcessError as e:\n",
    "    # Handle error\n",
    "    print(\"TTS Failed with error: \",e)\n",
    "    pass"
   ]
  },
  {
   "cell_type": "code",
   "execution_count": 13,
   "metadata": {},
   "outputs": [],
   "source": [
    "#Google TTS API\n",
    "from gtts import gTTS\n",
    "myobj = gTTS(text=\"Happy birthday! Hope you are having a wonderful day.\", lang='en', slow=False) \n",
    "  \n",
    "# Saving the converted audio in a mp3 file named  \n",
    "myobj.save(\"Sampleaudio.wav\")"
   ]
  },
  {
   "cell_type": "code",
   "execution_count": 42,
   "metadata": {},
   "outputs": [
    {
     "name": "stderr",
     "output_type": "stream",
     "text": [
      "INFO:mimic3_tts.tts:Loaded voice from /Users/shawn/.local/share/mycroft/mimic3/voices/en_UK/apope_low\n"
     ]
    }
   ],
   "source": [
    "import subprocess\n",
    "\n",
    "response = \"Hey there, want to party tonight?\"\n",
    "\n",
    "args = [\n",
    "            \"mimic3\",\n",
    "            \"\\\"\"+response+\"\\\"\",\n",
    "            \"--output-dir\", \"OUTPUT/Audio\",\"--output-naming\",\"time\"]\n",
    "        \n",
    "try:\n",
    "    subprocess.check_call(args)\n",
    "except subprocess.CalledProcessError as e:\n",
    "    # Handle error\n",
    "    print(\"TTS Failed with error: \",e)\n",
    "    pass"
   ]
  },
  {
   "cell_type": "code",
   "execution_count": 4,
   "metadata": {},
   "outputs": [
    {
     "data": {
      "text/plain": [
       "'20240412-225212'"
      ]
     },
     "execution_count": 4,
     "metadata": {},
     "output_type": "execute_result"
    }
   ],
   "source": [
    "import time\n",
    "timestr = time.strftime(\"%Y%m%d-%H%M%S\")\n",
    "timestr"
   ]
  },
  {
   "cell_type": "code",
   "execution_count": 3,
   "metadata": {},
   "outputs": [],
   "source": [
    "import pyttsx3\n",
    "\n",
    "import pyttsx3\n",
    "\n",
    "engine = pyttsx3.init()  # object creation\n",
    "\n",
    "\"\"\" RATE\"\"\"\n",
    "rate = engine.getProperty('rate')  # getting details of current speaking rate\n",
    "print(rate)  # printing current voice rate\n",
    "engine.setProperty('rate', 125)  # setting up new voice rate\n",
    "\n",
    "\"\"\"VOLUME\"\"\"\n",
    "volume = engine.getProperty('volume')  # getting to know current volume level (min=0 and max=1)\n",
    "print(volume)  # printing current volume level\n",
    "engine.setProperty('volume', 1.0)  # setting up volume level  between 0 and 1\n",
    "\n",
    "\"\"\"VOICE\"\"\"\n",
    "voices = engine.getProperty('voices')  # getting details of current voice\n",
    "# engine.setProperty('voice', voices[0].id)  #changing index, changes voices. o for male\n",
    "engine.setProperty('voice', voices[1].id)  # changing index, changes voices. 1 for female\n",
    "\n",
    "engine.say(\"Hello World!\")\n",
    "engine.say('My current speaking rate is ' + str(rate))\n",
    "engine.runAndWait()\n",
    "engine.stop()\n",
    "\n",
    "\"\"\"Saving Voice to a file\"\"\"\n",
    "# On linux make sure that 'espeak' and 'ffmpeg' are installed\n",
    "engine.save_to_file('Hello World', 'test.mp3')\n",
    "engine.runAndWait()\n"
   ]
  }
 ],
 "metadata": {
  "kernelspec": {
   "display_name": "llamalocal3",
   "language": "python",
   "name": "python3"
  },
  "language_info": {
   "codemirror_mode": {
    "name": "ipython",
    "version": 3
   },
   "file_extension": ".py",
   "mimetype": "text/x-python",
   "name": "python",
   "nbconvert_exporter": "python",
   "pygments_lexer": "ipython3",
   "version": "3.10.0"
  }
 },
 "nbformat": 4,
 "nbformat_minor": 2
}
